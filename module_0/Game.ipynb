{
 "cells": [
  {
   "cell_type": "code",
   "execution_count": 95,
   "metadata": {},
   "outputs": [],
   "source": [
    "import numpy as np  # импортируем библиотеку"
   ]
  },
  {
   "cell_type": "code",
   "execution_count": 147,
   "metadata": {},
   "outputs": [
    {
     "name": "stdout",
     "output_type": "stream",
     "text": [
      "Ваш алгоритм угадывает число в среднем за 5 попыток\n"
     ]
    },
    {
     "data": {
      "text/plain": [
       "5"
      ]
     },
     "execution_count": 147,
     "metadata": {},
     "output_type": "execute_result"
    }
   ],
   "source": [
    "x = int(input('Укажите диапазон '))\n",
    "\n",
    "#predict = lambda x:(x+1) / 2\n",
    "\n",
    "#print(type(predict))\n",
    "#predict = int(predict(x))\n",
    "\n",
    "\n",
    "# создаем функцию, позволяющую запустить игру 1000 раз\n",
    "def score_game(game_core):\n",
    "    count_ls = []\n",
    "    np.random.seed(1)  # фиксируем RANDOM SEED\n",
    "    random_array = np.random.randint(1, x+1, size=(1000))  # создаем массив\n",
    "    #print(random_array)\n",
    "    for number in random_array:  # находим среднее число попыток\n",
    "        count_ls.append(game_core(number))\n",
    "    score = int(np.mean(count_ls))  \n",
    "    print(f\"Ваш алгоритм угадывает число в среднем за {score} попыток\")\n",
    "    return(score)\n",
    "\n",
    "# создаем функцию, угадывающую любое число\n",
    "def game_core(number):\n",
    "    # Сокращаем доступный диапазон вдвое. Начинаем с 50\n",
    "    predict = lambda x:(x+1) / 2\n",
    "    predict = int(predict(x))\n",
    "    count = 1 \n",
    "    if predict == number: return(count)\n",
    "    else:\n",
    "        # создаем бесконечный цикл, угадывающий число\n",
    "        while True:\n",
    "            if predict == number: break\n",
    "            elif count < counter(x) and number > predict:\n",
    "                count += 1\n",
    "                predict += round(x / 2**count)\n",
    "            elif count < counter(x) and number < predict:\n",
    "                count += 1\n",
    "                predict -= round(x / 2**count)\n",
    "            else:  # позволяем угадать число x\n",
    "                count += 1\n",
    "                predict = predict + 1\n",
    "    return(count)  # на выходе получаем чило попыток\n",
    "\n",
    "# получаем итоговый результат\n",
    "score_game(game_core)"
   ]
  },
  {
   "cell_type": "code",
   "execution_count": 126,
   "metadata": {},
   "outputs": [
    {
     "data": {
      "text/plain": [
       "10"
      ]
     },
     "execution_count": 126,
     "metadata": {},
     "output_type": "execute_result"
    }
   ],
   "source": [
    "game_core(659)"
   ]
  },
  {
   "cell_type": "code",
   "execution_count": 120,
   "metadata": {},
   "outputs": [
    {
     "data": {
      "text/plain": [
       "1024"
      ]
     },
     "execution_count": 120,
     "metadata": {},
     "output_type": "execute_result"
    }
   ],
   "source": [
    "2**10"
   ]
  },
  {
   "cell_type": "code",
   "execution_count": 135,
   "metadata": {},
   "outputs": [],
   "source": [
    "# функция для нахождения максимального чмсла попыток\n",
    "def counter(x):\n",
    "    for count in range(1, x+1):\n",
    "        if x - 2**count < 0:\n",
    "            return count"
   ]
  },
  {
   "cell_type": "code",
   "execution_count": 141,
   "metadata": {},
   "outputs": [
    {
     "data": {
      "text/plain": [
       "23"
      ]
     },
     "execution_count": 141,
     "metadata": {},
     "output_type": "execute_result"
    }
   ],
   "source": [
    "counter(5000000)"
   ]
  },
  {
   "cell_type": "code",
   "execution_count": null,
   "metadata": {},
   "outputs": [],
   "source": []
  }
 ],
 "metadata": {
  "kernelspec": {
   "display_name": "Python 3",
   "language": "python",
   "name": "python3"
  },
  "language_info": {
   "codemirror_mode": {
    "name": "ipython",
    "version": 3
   },
   "file_extension": ".py",
   "mimetype": "text/x-python",
   "name": "python",
   "nbconvert_exporter": "python",
   "pygments_lexer": "ipython3",
   "version": "3.8.3"
  }
 },
 "nbformat": 4,
 "nbformat_minor": 4
}
