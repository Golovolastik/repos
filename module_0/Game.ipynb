{
 "cells": [
  {
   "cell_type": "code",
   "execution_count": null,
   "metadata": {},
   "outputs": [],
   "source": [
    "import numpy as np  # импортируем библиотеку\n",
    "\n",
    "\n",
    "# создаем функцию, позволяющую запустить игру 1000 раз\n",
    "def score_game(game_core):\n",
    "    count_ls = []\n",
    "    np.random.seed(1)  # фиксируем RANDOM SEED\n",
    "    random_array = np.random.randint(1, 101, size=(1000))  # создаем массив\n",
    "    for number in random_array:  # составляем список с числом попыток\n",
    "        count_ls.append(game_core(number))\n",
    "    score = int(np.mean(count_ls))  # находим среднее число попыток\n",
    "    print(f\"Ваш алгоритм угадывает число в среднем за {score} попыток\")\n",
    "    return(score)\n",
    "\n",
    "\n",
    "# создаем функцию, угадывающую число\n",
    "def game_core(number):\n",
    "    # Сокращаем доступный диапазон вдвое. Начинаем с 50\n",
    "    low = 1\n",
    "    high = 100\n",
    "    count = 1\n",
    "    while low <= high:\n",
    "        predict = int((low + high) / 2)\n",
    "        if predict == number:\n",
    "            return count\n",
    "        if predict < number:\n",
    "            count += 1\n",
    "            low = predict + 1\n",
    "        else:\n",
    "            count += 1\n",
    "            high = predict - 1\n",
    "    return None\n",
    "\n",
    "\n",
    "# получаем итоговый результат\n",
    "score_game(game_core)"
   ]
  }
 ],
 "metadata": {
  "kernelspec": {
   "display_name": "Python 3",
   "language": "python",
   "name": "python3"
  },
  "language_info": {
   "codemirror_mode": {
    "name": "ipython",
    "version": 3
   },
   "file_extension": ".py",
   "mimetype": "text/x-python",
   "name": "python",
   "nbconvert_exporter": "python",
   "pygments_lexer": "ipython3",
   "version": "3.8.3"
  }
 },
 "nbformat": 4,
 "nbformat_minor": 4
}
