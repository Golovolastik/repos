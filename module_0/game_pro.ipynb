{
 "cells": [
  {
   "cell_type": "code",
   "execution_count": null,
   "metadata": {},
   "outputs": [],
   "source": [
    "# функция, проверяющая Х\n",
    "while True:\n",
    "    x = int(input('Введите положительное число Х: \\n'))\n",
    "    if x > 0:\n",
    "        break\n",
    "    elif x <= 0:\n",
    "        print('Введите, пожалуйста, положительное число')\n",
    "\n",
    "\n",
    "import numpy as np  # импортируем библиотеку\n",
    "np.random.seed(1)  # фиксируем RANDOM SEED\n",
    "random_array = np.random.randint(1, x+1, size=(1000))  # создаем массив\n",
    "\n",
    "\n",
    "# создаем функцию, позволяющую запустить игру 1000 раз\n",
    "def score_game(game_core):\n",
    "    count_ls = []\n",
    "    for number in random_array:  # находим среднее число попыток\n",
    "        count_ls.append(game_core(number))\n",
    "    score = int(np.mean(count_ls))\n",
    "    print(f\"Алгоритм угадывает число от 1 до {x} в среднем за {score} попыток \\n\")\n",
    "    return(score)\n",
    "\n",
    "\n",
    "# создаем функцию, угадывающую число\n",
    "def game_core(number):\n",
    "    # используем алгоритм бинарного поиска\n",
    "    low = 1\n",
    "    high = x\n",
    "    count = 1\n",
    "    while low <= high:\n",
    "        predict = int((low + high) / 2)\n",
    "        if predict == number:\n",
    "            return count\n",
    "        if predict < number:\n",
    "            count += 1\n",
    "            low = predict + 1\n",
    "        else:\n",
    "            count += 1\n",
    "            high = predict - 1\n",
    "\n",
    "\n",
    "# получаем итоговый результат\n",
    "score_game(game_core)\n"
   ]
  }
 ],
 "metadata": {
  "kernelspec": {
   "display_name": "Python 3",
   "language": "python",
   "name": "python3"
  },
  "language_info": {
   "codemirror_mode": {
    "name": "ipython",
    "version": 3
   },
   "file_extension": ".py",
   "mimetype": "text/x-python",
   "name": "python",
   "nbconvert_exporter": "python",
   "pygments_lexer": "ipython3",
   "version": "3.8.3"
  }
 },
 "nbformat": 4,
 "nbformat_minor": 4
}
