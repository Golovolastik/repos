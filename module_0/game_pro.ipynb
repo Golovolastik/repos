{
 "cells": [
  {
   "cell_type": "code",
   "execution_count": 1,
   "metadata": {},
   "outputs": [
    {
     "name": "stdout",
     "output_type": "stream",
     "text": [
      "Введите положительное число Х: \n",
      "6563445\n",
      "Алгоритм угадывает число от 1 до 6563445 в среднем за 21 попыток \n",
      "\n"
     ]
    },
    {
     "data": {
      "text/plain": [
       "21"
      ]
     },
     "execution_count": 1,
     "metadata": {},
     "output_type": "execute_result"
    }
   ],
   "source": [
    "import numpy as np  # импортируем библиотеку\n",
    "\n",
    "\n",
    "# функция, проверяющая Х\n",
    "while True:\n",
    "    x = int(input('Введите положительное число Х: \\n'))\n",
    "    if x > 0: break\n",
    "    elif x <= 0:\n",
    "        print('Введите, пожалуйста, положительное число')\n",
    "\n",
    "\n",
    "# функция для нахождения максимального числа попыток\n",
    "def counter(x):\n",
    "    for count in range(1, x+1):\n",
    "        if x - 2**count < 0:\n",
    "            return count\n",
    "        \n",
    "\n",
    "# создаем функцию, позволяющую запустить игру 1000 раз\n",
    "def score_game(game_core):\n",
    "    count_ls = []\n",
    "    np.random.seed(1)  # фиксируем RANDOM SEED\n",
    "    random_array = np.random.randint(1, x+1, size=(1000))  # создаем массив\n",
    "    for number in random_array:  # находим среднее число попыток\n",
    "        count_ls.append(game_core(number))\n",
    "    score = int(np.mean(count_ls))  \n",
    "    print(f\"Алгоритм угадывает число от 1 до {x} в среднем за {score} попыток \\n\")\n",
    "    return(score)\n",
    "\n",
    "\n",
    "# создаем функцию, угадывающую любое число\n",
    "def game_core(number):\n",
    "    # Сокращаем доступный диапазон вдвое. Начинаем с 50\n",
    "    predict = lambda x:(x+1) / 2\n",
    "    predict = int(predict(x))\n",
    "    count = 1 \n",
    "    if predict == number: return(count)\n",
    "    else:\n",
    "        # создаем бесконечный цикл, угадывающий число\n",
    "        while True:\n",
    "            if predict == number: break\n",
    "            elif count < counter(x) and number > predict:\n",
    "                count += 1\n",
    "                predict += round(x / 2**count)\n",
    "            elif count < counter(x) and number < predict:\n",
    "                count += 1\n",
    "                predict -= round(x / 2**count)\n",
    "            else:  # позволяем угадать число x\n",
    "                count += 1\n",
    "                predict = predict + 1\n",
    "    return(count)  # на выходе получаем чило попыток\n",
    "\n",
    "\n",
    "# получаем итоговый результат\n",
    "score_game(game_core)\n"
   ]
  },
  {
   "cell_type": "code",
   "execution_count": null,
   "metadata": {},
   "outputs": [],
   "source": []
  }
 ],
 "metadata": {
  "kernelspec": {
   "display_name": "Python 3",
   "language": "python",
   "name": "python3"
  },
  "language_info": {
   "codemirror_mode": {
    "name": "ipython",
    "version": 3
   },
   "file_extension": ".py",
   "mimetype": "text/x-python",
   "name": "python",
   "nbconvert_exporter": "python",
   "pygments_lexer": "ipython3",
   "version": "3.8.3"
  }
 },
 "nbformat": 4,
 "nbformat_minor": 4
}
